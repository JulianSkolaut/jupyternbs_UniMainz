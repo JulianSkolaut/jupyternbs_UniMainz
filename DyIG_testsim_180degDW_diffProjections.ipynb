{
 "cells": [
  {
   "cell_type": "code",
   "execution_count": null,
   "id": "cfb35fd9-88b6-4fe6-a73b-8537d00e76a4",
   "metadata": {},
   "outputs": [],
   "source": [
    "import pandas as pd\n",
    "import numpy as np\n",
    "import matplotlib.pyplot as plt\n",
    "import sys\n",
    "sys.path.append('../Codebase_AGWittmann/code-base/beamtime/')\n",
    "import plot_SNVM_data as pSd\n",
    "import SNVM_B_xyz_extraction as Sdp\n",
    "from math import ceil\n",
    "\n",
    "import matplotlib as mpl\n",
    "from matplotlib_scalebar.scalebar import ScaleBar\n",
    "from math import ceil,floor,pi\n",
    "import colorsys\n",
    "import cv2\n",
    "from skimage.util.shape import view_as_blocks\n",
    "from skimage.io import imsave\n",
    "from skimage.measure import profile_line\n",
    "import scipy.ndimage"
   ]
  },
  {
   "cell_type": "code",
   "execution_count": null,
   "id": "69bf301c-8428-4281-bb79-e4fa4017e08d",
   "metadata": {},
   "outputs": [],
   "source": [
    "foldername = '/home/julisko/Seafile/My Library/Mumax/Mumax_Files/DyIG/DyIG_2DWtest.out/'\n",
    "filename = 'demag_DyIG_2DW_test.csv' #512,4,256\n",
    "pathname  = foldername+filename"
   ]
  },
  {
   "cell_type": "code",
   "execution_count": null,
   "id": "7bdb1ab5-d310-4d29-8137-c26c8f1cb0c6",
   "metadata": {},
   "outputs": [],
   "source": [
    "#read file\n",
    "\n",
    "file_df = pd.read_csv(pathname, header=None)\n",
    "#print(file_df.shape,'\\n',file_df)\n",
    "x_shape = 512\n",
    "y_shape = 4\n",
    "z_shape = 256\n",
    "data = file_df.to_numpy()\n",
    "data = data.reshape((3,z_shape,y_shape,x_shape))\n",
    "data_yavg = np.average(data, axis = 2) #avg in y direction\n",
    "#print(data.shape, data)\n",
    "demag_x = data[0]\n",
    "demag_y = data[1]\n",
    "demag_z = data[2]\n",
    "\n",
    "demag_x_yavg = data_yavg[0]\n",
    "demag_y_yavg = data_yavg[1]\n",
    "demag_z_yavg = data_yavg[2]"
   ]
  },
  {
   "cell_type": "code",
   "execution_count": null,
   "id": "13f52612-b648-40fd-8fce-ae57ae052b7f",
   "metadata": {},
   "outputs": [],
   "source": []
  },
  {
   "cell_type": "code",
   "execution_count": null,
   "id": "d4cb78f8-f5b0-463c-beb3-a14add945fb0",
   "metadata": {},
   "outputs": [],
   "source": []
  }
 ],
 "metadata": {
  "kernelspec": {
   "display_name": "Python 3 (ipykernel)",
   "language": "python",
   "name": "python3"
  },
  "language_info": {
   "codemirror_mode": {
    "name": "ipython",
    "version": 3
   },
   "file_extension": ".py",
   "mimetype": "text/x-python",
   "name": "python",
   "nbconvert_exporter": "python",
   "pygments_lexer": "ipython3",
   "version": "3.8.17"
  }
 },
 "nbformat": 4,
 "nbformat_minor": 5
}
