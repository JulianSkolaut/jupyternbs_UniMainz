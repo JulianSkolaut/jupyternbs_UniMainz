{
 "cells": [
  {
   "cell_type": "code",
   "execution_count": null,
   "id": "f6d715d2-970f-469a-888e-55a6302c72e0",
   "metadata": {},
   "outputs": [],
   "source": [
    "import numpy as np\n",
    "import sys\n",
    "sys.path.append('../Codebase_AGWittmann/code-base/beamtime/')\n",
    "import beamtime_utils as butils\n",
    "import skimage\n",
    "import os\n",
    "import matplotlib.pyplot as plt\n",
    "import cv2"
   ]
  },
  {
   "cell_type": "code",
   "execution_count": null,
   "id": "44c99ddb-5e64-49f5-a582-ccc060101a2c",
   "metadata": {},
   "outputs": [],
   "source": [
    "basefolder = 'C:\\\\Users\\\\jskolaut\\\\Seafile\\\\My Library\\\\Beamtime_2310_MAXIV_Hematite\\\\Analysis\\\\'\n",
    "basefolder = '/home/julisko/Seafile/My Library/Beamtime_2310_MAXIV_Hematite/Analysis/'\n",
    "basefolderfiles = os.listdir(basefolder)\n",
    "\n",
    "filenames = []\n",
    "fileformats = []\n",
    "tiffilenames = []\n",
    "\n",
    "for i in range(len(basefolderfiles)):\n",
    "    file = basefolderfiles[i]\n",
    "    filenames.append(os.path.splitext(file)[0])\n",
    "    fileformats.append(os.path.splitext(file)[1])\n",
    "    if fileformats[i] == '.tif' or fileformats[i] == '.tiff':\n",
    "        tiffilenames.append(filenames[i]+fileformats[i])\n",
    "print(tiffilenames)"
   ]
  },
  {
   "cell_type": "code",
   "execution_count": null,
   "id": "05642574-9272-4a09-ae38-a6eb089e3c51",
   "metadata": {},
   "outputs": [],
   "source": [
    "imagepath1= (basefolder+tiffilenames[1])\n",
    "#image1 = cv2.cvtColor(basefolder+tiffilenames[0])\n",
    "image1 = butils.read_tiff(imagepath1)[256:-256,256:-256]\n",
    "plt.imshow(image1, cmap = 'gray')#, vmin=-30,vmax= 35)\n",
    "plt.show()\n",
    "image1_bkgcorr = butils.slightly_smarter_background_correction(image1,n=2,edge_cutting_condition_factor=0.95)\n",
    "image1_bkgcorr_norm = (image1_bkgcorr-np.min(image1_bkgcorr))/(np.max(image1_bkgcorr)-np.min(image1_bkgcorr))\n",
    "print(np.max(image1_bkgcorr_norm),np.min(image1_bkgcorr_norm),np.shape(image1))\n",
    "#plt.imshow(image1, vmin=80,vmax= 100)\n",
    "plt.imshow(image1_bkgcorr_norm, cmap = 'gray')#, vmin=-30,vmax= 35)\n",
    "plt.show()\n",
    "\n",
    "imagepath2= (basefolder+tiffilenames[2])\n",
    "#image1 = cv2.cvtColor(basefolder+tiffilenames[0])\n",
    "image2 = butils.read_tiff(imagepath2)\n",
    "image2_bkgcorr = butils.slightly_smarter_background_correction(image2,n=2,edge_cutting_condition_factor=0.95)\n",
    "image2_bkgcorr_norm = (image2_bkgcorr-np.min(image2_bkgcorr))/(np.max(image2_bkgcorr)-np.min(image2_bkgcorr))\n",
    "print(np.max(image2_bkgcorr_norm),np.min(image2_bkgcorr_norm))\n",
    "#plt.imshow(image2, vmin=80,vmax= 100)\n",
    "plt.imshow(image2_bkgcorr_norm, cmap = 'gray')#, vmin=-30,vmax= 35)\n",
    "plt.show()\n"
   ]
  },
  {
   "cell_type": "code",
   "execution_count": null,
   "id": "6117cf9f-f728-4e6f-af0f-0b7ed77a5041",
   "metadata": {},
   "outputs": [],
   "source": []
  },
  {
   "cell_type": "code",
   "execution_count": null,
   "id": "0333f7e5-9f62-42a3-8670-46edfd683d01",
   "metadata": {},
   "outputs": [],
   "source": []
  },
  {
   "cell_type": "code",
   "execution_count": null,
   "id": "862e491f-1d95-4dbe-b288-5337b6f43247",
   "metadata": {},
   "outputs": [],
   "source": []
  }
 ],
 "metadata": {
  "kernelspec": {
   "display_name": "Python 3 (ipykernel)",
   "language": "python",
   "name": "python3"
  },
  "language_info": {
   "codemirror_mode": {
    "name": "ipython",
    "version": 3
   },
   "file_extension": ".py",
   "mimetype": "text/x-python",
   "name": "python",
   "nbconvert_exporter": "python",
   "pygments_lexer": "ipython3",
   "version": "3.8.17"
  }
 },
 "nbformat": 4,
 "nbformat_minor": 5
}
