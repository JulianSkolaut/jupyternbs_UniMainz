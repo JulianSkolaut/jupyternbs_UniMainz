{
 "cells": [
  {
   "cell_type": "code",
   "execution_count": null,
   "metadata": {},
   "outputs": [],
   "source": [
    "import numpy as np\n",
    "import sys\n",
    "sys.path.append('../Codebase_AGWittmann/code-base/beamtime/')\n",
    "import os\n",
    "import matplotlib.pyplot as plt\n",
    "from scipy.optimize import curve_fit\n",
    "import pandas as pd"
   ]
  },
  {
   "cell_type": "code",
   "execution_count": null,
   "metadata": {},
   "outputs": [],
   "source": [
    "def linfunc(x,a,b):\n",
    "    return a*x+b\n",
    "\n",
    "def  squarefunc(x,a,b,c):\n",
    "    return a*np.power(x,2) + b*x + c"
   ]
  },
  {
   "cell_type": "code",
   "execution_count": null,
   "metadata": {},
   "outputs": [],
   "source": [
    "filename = r'C:\\Users\\jskolaut\\Seafile\\My Library\\MOKE\\20240612 Hematite with Julian\\Hematite_polar_after_optimizing_image.txt'\n",
    "\n",
    "df = pd.read_csv(filename, delimiter = '\\t', header = 1)\n",
    "data = np.array(df)[:,0:2]\n",
    "\n",
    "Bfield = data[:,0]\n",
    "Intensity = data[:,1]\n",
    "\n",
    "#print(Bfield)\n",
    "#print(Intensity)\n",
    "print(np.shape(Bfield))\n",
    "\n",
    "fitpxmin, fitpxmax = 60,180\n",
    "\n",
    "popt,pcov = curve_fit(linfunc,Bfield[fitpxmin:fitpxmax], Intensity[fitpxmin:fitpxmax])\n",
    "print(popt, pcov)\n",
    "\n",
    "plt.plot(Bfield[:], Intensity[:])\n",
    "\n",
    "#plt.plot(Bfield,linfunc(Bfield,*popt))\n",
    "plt.ylabel('Intensity (arb. u.)')\n",
    "plt.xlabel('IP magnetic field (mT)')\n",
    "plt.show()\n",
    "\n",
    "Intensity_corr = Intensity - linfunc(Bfield,*popt) \n",
    "\n",
    "plt.plot(Bfield,Intensity_corr)\n",
    "plt.ylabel('Intensity (arb. u.)')\n",
    "plt.xlabel('IP magnetic field (mT)')\n",
    "\n"
   ]
  },
  {
   "cell_type": "code",
   "execution_count": null,
   "metadata": {},
   "outputs": [],
   "source": [
    "filename = r'C:\\Users\\jskolaut\\Seafile\\My Library\\MOKE\\20240612 Hematite with Julian\\Hematite_10nm_H4_polar.txt'\n",
    "\n",
    "df = pd.read_csv(filename, delimiter = '\\t', header = 1)\n",
    "data = np.array(df)[:,0:2]\n",
    "\n",
    "Bfield = data[:,0]\n",
    "Intensity = data[:,1]\n",
    "\n",
    "fitpxmin, fitpxmax = 60,180\n",
    "\n",
    "popt,pcov = curve_fit(squarefunc,Bfield[:], Intensity[:])\n",
    "print(popt, pcov)\n",
    "\n",
    "plt.plot(Bfield[:], Intensity[:])\n",
    "\n",
    "#plt.plot(Bfield,linfunc(Bfield,*popt))\n",
    "plt.ylabel('Intensity (arb. u.)')\n",
    "plt.xlabel('IP magnetic field (mT)')\n",
    "plt.show()\n",
    "\n",
    "Intensity_corr = Intensity - squarefunc(Bfield,*popt) \n",
    "\n",
    "plt.plot(Bfield,Intensity_corr)\n",
    "plt.ylabel('Intensity (arb. u.)')\n",
    "plt.xlabel('IP magnetic field (mT)')\n"
   ]
  },
  {
   "cell_type": "code",
   "execution_count": null,
   "metadata": {},
   "outputs": [],
   "source": []
  },
  {
   "cell_type": "code",
   "execution_count": null,
   "metadata": {},
   "outputs": [],
   "source": []
  }
 ],
 "metadata": {
  "kernelspec": {
   "display_name": "Python 3",
   "language": "python",
   "name": "python3"
  },
  "language_info": {
   "codemirror_mode": {
    "name": "ipython",
    "version": 3
   },
   "file_extension": ".py",
   "mimetype": "text/x-python",
   "name": "python",
   "nbconvert_exporter": "python",
   "pygments_lexer": "ipython3",
   "version": "3.12.0"
  }
 },
 "nbformat": 4,
 "nbformat_minor": 2
}
