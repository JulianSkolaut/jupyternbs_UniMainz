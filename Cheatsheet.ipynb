{
 "cells": [
  {
   "cell_type": "markdown",
   "id": "57aec805",
   "metadata": {},
   "source": [
    "# To install packages, shutdown jupyter server, run following command"
   ]
  },
  {
   "cell_type": "code",
   "execution_count": 7,
   "id": "bd45b49a",
   "metadata": {},
   "outputs": [
    {
     "ename": "SyntaxError",
     "evalue": "invalid syntax (490357658.py, line 1)",
     "output_type": "error",
     "traceback": [
      "\u001b[0;36m  Cell \u001b[0;32mIn[7], line 1\u001b[0;36m\u001b[0m\n\u001b[0;31m    python3 -m pip install numpy\u001b[0m\n\u001b[0m               ^\u001b[0m\n\u001b[0;31mSyntaxError\u001b[0m\u001b[0;31m:\u001b[0m invalid syntax\n"
     ]
    }
   ],
   "source": [
    "#install packages\n",
    "python3 -m pip install <package>"
   ]
  },
  {
   "cell_type": "code",
   "execution_count": null,
   "id": "e7943685",
   "metadata": {},
   "outputs": [],
   "source": [
    "# import functions from notebooks -> possible but should not be used if avoidable\n",
    "import nbimporter\n",
    "from notebook import function"
   ]
  }
 ],
 "metadata": {
  "kernelspec": {
   "display_name": "Python 3 (ipykernel)",
   "language": "python",
   "name": "python3"
  },
  "language_info": {
   "codemirror_mode": {
    "name": "ipython",
    "version": 3
   },
   "file_extension": ".py",
   "mimetype": "text/x-python",
   "name": "python",
   "nbconvert_exporter": "python",
   "pygments_lexer": "ipython3",
   "version": "3.10.6"
  }
 },
 "nbformat": 4,
 "nbformat_minor": 5
}
