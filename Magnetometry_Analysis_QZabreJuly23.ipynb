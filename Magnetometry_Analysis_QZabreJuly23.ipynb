{
 "cells": [
  {
   "cell_type": "code",
   "execution_count": null,
   "id": "442da59b",
   "metadata": {},
   "outputs": [],
   "source": [
    "import os\n",
    "import plot_SNVM_data as pSd\n",
    "import SNVM_B_xyz_extraction as Sdp\n",
    "import numpy as np\n",
    "import matplotlib.pyplot as plt\n",
    "import matplotlib as mpl\n",
    "from matplotlib_scalebar.scalebar import ScaleBar\n",
    "from math import ceil,floor,pi\n",
    "import colorsys\n",
    "import cv2\n",
    "from skimage.util.shape import view_as_blocks\n",
    "from skimage.io import imsave"
   ]
  },
  {
   "cell_type": "code",
   "execution_count": null,
   "id": "05ad970a",
   "metadata": {
    "scrolled": true
   },
   "outputs": [],
   "source": [
    "# List all items in basepath\n",
    "basepath = '/home/julisko/Seafile/My Library/SNVM/20230713_QZabre_Visit_Garnets_Rose/230713_18_QZabre_BiYIG_DyIG_Rose'\n",
    "basepath_folders = []\n",
    "basepath_foldernames = []\n",
    "\n",
    "for i in range(len(os.listdir(basepath))):\n",
    "    \n",
    "    if os.path.isdir(basepath+'/'+sorted(os.listdir(basepath))[i]):\n",
    "        basepath_folders.append(basepath+'/'+sorted(os.listdir(basepath))[i])\n",
    "        basepath_foldernames.append(sorted(os.listdir(basepath))[i])\n",
    "#print(basepath_folders)\n",
    "print(basepath_foldernames)\n",
    "\n",
    "#AFM_dayfolders = []\n",
    "#Confocal_dayfolders = []\n",
    "#Magnetometry_dayfolders =[]\n",
    "#Pulse_exp_dayfolders = []\n",
    "\n",
    "for i in range(len(basepath_folders)):\n",
    "    if basepath_foldernames[i] =='AFM_Scans':\n",
    "        AFM_dayfolders = [basepath_folders[i]+'/'+s for s in sorted(os.listdir(basepath_folders[i]))]\n",
    "        print('AFM_Scans','\\n',sorted(os.listdir(basepath_folders[i])))\n",
    "    if basepath_foldernames[i] =='Confocal_Scans':\n",
    "        Confocal_dayfolders = [basepath_folders[i]+'/'+s for s in sorted(os.listdir(basepath_folders[i]))]\n",
    "        print('Confocal_Scans','\\n',sorted(os.listdir(basepath_folders[i])))\n",
    "        \n",
    "    if basepath_foldernames[i] =='Magnetometry_Scans':\n",
    "        Magnetometry_dayfolders = [basepath_folders[i]+'/'+s for s in sorted(os.listdir(basepath_folders[i]))]\n",
    "        print('Magnetometry_Scans','\\n',sorted(os.listdir(basepath_folders[i])))\n",
    "        \n",
    "    if basepath_foldernames[i] =='Pulse_Experiments':\n",
    "        Pulse_exp_dayfolders = [basepath_folders[i]+'/'+s for s in sorted(os.listdir(basepath_folders[i]))]\n",
    "        print('Pulse_Experiments','\\n',sorted(os.listdir(basepath_folders[i])))\n",
    "        "
   ]
  },
  {
   "cell_type": "code",
   "execution_count": null,
   "id": "9f3c9c40",
   "metadata": {
    "scrolled": true
   },
   "outputs": [],
   "source": [
    "# Plot all AFM images\n",
    "AFM_folders = []\n",
    "for i in range(len(AFM_dayfolders)):\n",
    "    #print(AFM_dayfolders[i])\n",
    "    #print(sorted(os.listdir(AFM_dayfolders[i])))\n",
    "    AFM_folders.append([AFM_dayfolders[i]+'/'+s for s in sorted(os.listdir(AFM_dayfolders[i]))])\n",
    "#print(AFM_folders)\n",
    "#print('\\n')\n",
    "\n",
    "for date_index in range(len(AFM_folders)):\n",
    "    for datafolder in AFM_folders[date_index]:\n",
    "        print(datafolder)\n",
    "        print('\\n')\n",
    "        file, metadata = pSd.ReadSNVMfile(datafolder)\n",
    "        #print(file, 'n', metadata)\n",
    "        data_preQS3 = pSd.ExtractData(file, datatype = 'afm:height')\n",
    "        data = pSd.AdjustDataToQS3(data_preQS3)\n",
    "        pSd.PlotData(data, metadata,cmap = 'copper',zscaling = 1e9, datalabel = 'Height (nm)', backgroundcorr='x')\n",
    "        plt.show()\n",
    "        "
   ]
  },
  {
   "cell_type": "code",
   "execution_count": null,
   "id": "c344ffd6",
   "metadata": {
    "scrolled": true
   },
   "outputs": [],
   "source": [
    "# Plot all Magnetometry images\n",
    "Magnetometry_folders = []\n",
    "for i in range(len(Magnetometry_dayfolders)):\n",
    "    #print(AFM_dayfolders[i])\n",
    "    #print(sorted(os.listdir(AFM_dayfolders[i])))\n",
    "    Magnetometry_folders.append([Magnetometry_dayfolders[i]+'/odmr_quick/'+s \n",
    "                                 for s in sorted(os.listdir(Magnetometry_dayfolders[i]+'/odmr_quick'))])\n",
    "#print(Magnetometry_folders)\n",
    "#print('\\n')\n",
    "\n",
    "\n",
    "savefolder = '/home/julisko/Seafile/My Library/SNVM/20230713_QZabre_Visit_Garnets_Rose/230713_18_QZabre_Analysis/Magnetometry_directoutput'\n",
    "\n",
    "for date_index in range(len(Magnetometry_folders)):\n",
    "    for datafolder in Magnetometry_folders[date_index]:\n",
    "        #print(datafolder)\n",
    "        #print('\\n')\n",
    "        file, metadata = pSd.ReadSNVMfile(datafolder)\n",
    "        B_ext = np.round(metadata['vectorMagnetSettings']['field_strength'],decimals=2)\n",
    "        theta = np.round(metadata['vectorMagnetSettings']['theta'],decimals=2)\n",
    "        phi = np.round(metadata['vectorMagnetSettings']['phi'],decimals=2)\n",
    "        \n",
    "        #print(file, '\\n', metadata)\n",
    "        magnetometry_preQS3 = pSd.ExtractData(file, datatype = 'odmr:mTesla')\n",
    "        magnetometry = pSd.AdjustDataToQS3(magnetometry_preQS3)\n",
    "        pSd.PlotData(magnetometry-np.nanmean(magnetometry), metadata, datalabel = 'Stray Field (mT)')#, \n",
    "                     #minval=-0.5, maxval = 0.7)#, backgroundcorr='x')\n",
    "        plt.title('B_ext='+str(B_ext)+r', $\\theta$ = '+str(theta) + r', $\\varphi$ = '+str(phi))\n",
    "        plt.tight_layout()\n",
    "        #plt.savefig(savefolder+'/'+datafolder[-30:]+'_mT.png',dpi=200,transparent=True)\n",
    "        print(savefolder+'/'+datafolder[-30:]+'_mT.png')\n",
    "        plt.show()\n",
    "        \n",
    "        AFM_preQS3 = pSd.ExtractData(file, datatype = 'afm:height')\n",
    "        AFM = pSd.AdjustDataToQS3(AFM_preQS3)\n",
    "        pSd.PlotData(AFM, metadata, zscaling = 1e9, datalabel = 'Height (nm)', backgroundcorr='y', cmap = 'copper')\n",
    "        plt.title('B_ext='+str(B_ext)+r', $\\theta$ = '+str(theta) + r', $\\varphi$ = '+str(phi))\n",
    "        plt.tight_layout()\n",
    "        print(savefolder+'/'+datafolder[-30:]+'_topo.png')\n",
    "        #plt.savefig(savefolder+'/'+datafolder[-30:]+'_topo.png',dpi=200,transparent=True)\n",
    "        print('\\n')\n",
    "        plt.show()\n"
   ]
  },
  {
   "cell_type": "code",
   "execution_count": null,
   "id": "3a3e27f3",
   "metadata": {},
   "outputs": [],
   "source": [
    "pSd.PlotData(magnetometry,metadata)\n",
    "plt.show()\n",
    "print(metadata['vectorMagnetSettings']['field_strength'])\n",
    "print(metadata['vectorMagnetSettings']['theta'])\n",
    "print(metadata['vectorMagnetSettings']['phi'])\n",
    "print(metadata)"
   ]
  },
  {
   "cell_type": "code",
   "execution_count": null,
   "id": "8e66d986",
   "metadata": {},
   "outputs": [],
   "source": []
  }
 ],
 "metadata": {
  "kernelspec": {
   "display_name": "Python 3 (ipykernel)",
   "language": "python",
   "name": "python3"
  },
  "language_info": {
   "codemirror_mode": {
    "name": "ipython",
    "version": 3
   },
   "file_extension": ".py",
   "mimetype": "text/x-python",
   "name": "python",
   "nbconvert_exporter": "python",
   "pygments_lexer": "ipython3",
   "version": "3.8.17"
  }
 },
 "nbformat": 4,
 "nbformat_minor": 5
}
